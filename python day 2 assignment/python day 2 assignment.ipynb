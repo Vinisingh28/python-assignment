{
 "cells": [
  {
   "cell_type": "markdown",
   "metadata": {},
   "source": [
    "# Question 1"
   ]
  },
  {
   "cell_type": "code",
   "execution_count": 1,
   "metadata": {},
   "outputs": [
    {
     "name": "stdout",
     "output_type": "stream",
     "text": [
      "0.268\n"
     ]
    }
   ],
   "source": [
    "x=5\n",
    "a=((2*x+5)/(x**2+5*x+6))\n",
    "print(\"{:.3f}\".format(a))\n"
   ]
  },
  {
   "cell_type": "code",
   "execution_count": 2,
   "metadata": {},
   "outputs": [
    {
     "name": "stdout",
     "output_type": "stream",
     "text": [
      "3.733\n"
     ]
    }
   ],
   "source": [
    "x=5\n",
    "b=((x**2+5*x+6)/(2*x+5))\n",
    "print(\"{:.3f}\".format(b))\n"
   ]
  },
  {
   "cell_type": "code",
   "execution_count": 3,
   "metadata": {
    "scrolled": true
   },
   "outputs": [
    {
     "name": "stdout",
     "output_type": "stream",
     "text": [
      "98\n"
     ]
    }
   ],
   "source": [
    "x=5\n",
    "c=((2*x-3)*(x+9))\n",
    "print(c)"
   ]
  },
  {
   "cell_type": "markdown",
   "metadata": {},
   "source": [
    "# Question 2"
   ]
  },
  {
   "cell_type": "code",
   "execution_count": 9,
   "metadata": {},
   "outputs": [
    {
     "name": "stdout",
     "output_type": "stream",
     "text": [
      "Enter your name :india\n",
      "Enter your password :ind\n",
      "Congratulations! you're login sucessfully\n"
     ]
    }
   ],
   "source": [
    "#username & password login\n",
    "x=1\n",
    "z=1\n",
    "y=True\n",
    "while y: \n",
    "    username=input(\"Enter your name :\")\n",
    "    if username==\"india\":\n",
    "         while x<=6:\n",
    "            password=input(\"Enter your password :\")\n",
    "            if password==\"ind\":\n",
    "                print(\"Congratulations! you're login sucessfully\")\n",
    "                y=False\n",
    "                break\n",
    "            elif x==6:\n",
    "                print(\" You tried it maximum times. Your account is blocked for 24 hrs.\")\n",
    "                y=False\n",
    "                break\n",
    "            else:\n",
    "                print(\"your password is incorrect.Try again\")\n",
    "            x=x+1\n",
    "    \n",
    "    else:\n",
    "        print(\"your username is incorrect.Try again.\")\n",
    "        if z==5:\n",
    "            print(\"You tried it for maximum times. your account is blocked for 24 hrs\")\n",
    "            break\n",
    "    z=z+1\n"
   ]
  },
  {
   "cell_type": "code",
   "execution_count": 9,
   "metadata": {},
   "outputs": [],
   "source": []
  },
  {
   "cell_type": "code",
   "execution_count": null,
   "metadata": {},
   "outputs": [],
   "source": []
  }
 ],
 "metadata": {
  "kernelspec": {
   "display_name": "Python 3",
   "language": "python",
   "name": "python3"
  },
  "language_info": {
   "codemirror_mode": {
    "name": "ipython",
    "version": 3
   },
   "file_extension": ".py",
   "mimetype": "text/x-python",
   "name": "python",
   "nbconvert_exporter": "python",
   "pygments_lexer": "ipython3",
   "version": "3.7.6"
  }
 },
 "nbformat": 4,
 "nbformat_minor": 4
}
